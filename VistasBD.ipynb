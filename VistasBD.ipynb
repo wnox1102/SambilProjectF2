{
 "cells": [
  {
   "cell_type": "markdown",
   "metadata": {},
   "source": [
    "# INICIO DEL PROGRAMA\n"
   ]
  },
  {
   "cell_type": "code",
   "execution_count": 1,
   "metadata": {},
   "outputs": [
    {
     "name": "stdout",
     "output_type": "stream",
     "text": [
      "ingresa clave de la BD?12t09lma\n",
      "-----------\n",
      "12t09lma\n"
     ]
    }
   ],
   "source": [
    "import ssl\n",
    "import sys\n",
    "import psycopg2 \n",
    "import pandas as pd\n",
    "import json\n",
    "\n",
    "clave = input(\"ingresa clave de la BD?\")\n",
    "print(\"-----------\")\n",
    "print(clave)\n",
    "conn = psycopg2.connect(host = 'localhost', user= 'postgres', password =clave, dbname= 'Sambil')"
   ]
  },
  {
   "cell_type": "markdown",
   "metadata": {},
   "source": [
    "## VISTAS DE BD"
   ]
  },
  {
   "cell_type": "markdown",
   "metadata": {},
   "source": [
    "1) Top 5 personas que más han estado en el centro comercial en el último mes"
   ]
  },
  {
   "cell_type": "code",
   "execution_count": 2,
   "metadata": {
    "scrolled": true
   },
   "outputs": [
    {
     "name": "stdout",
     "output_type": "stream",
     "text": [
      "   cantidad      nombre\n",
      "0        14    Chiquita\n",
      "1        14      Temple\n",
      "2        13     Nerissa\n",
      "3        13      Jeremy\n",
      "4        13  Cirstoforo\n"
     ]
    }
   ],
   "source": [
    "sql='''select * from masvisitas'''\n",
    "df = pd.read_sql_query(sql, conn)\n",
    "print(df)"
   ]
  },
  {
   "cell_type": "markdown",
   "metadata": {},
   "source": [
    "2) Porcentaje de las ventas hechas por personas con celulares inteligentes y sin celular inteligente"
   ]
  },
  {
   "cell_type": "code",
   "execution_count": 3,
   "metadata": {},
   "outputs": [
    {
     "name": "stdout",
     "output_type": "stream",
     "text": [
      "   conmac  sinmac\n",
      "0      78      22\n"
     ]
    }
   ],
   "source": [
    "sql='''select * from porcentajeConMAC'''\n",
    "df2 = pd.read_sql_query(sql, conn)\n",
    "print(df2)"
   ]
  },
  {
   "cell_type": "markdown",
   "metadata": {},
   "source": [
    "3) Top 3 tiendas con mayor cantdad de ventas"
   ]
  },
  {
   "cell_type": "code",
   "execution_count": 4,
   "metadata": {},
   "outputs": [
    {
     "name": "stdout",
     "output_type": "stream",
     "text": [
      "   ventas      nombre\n",
      "0    1575        nike\n",
      "1    1558  timberland\n",
      "2    1510        zara\n"
     ]
    }
   ],
   "source": [
    "sql='''select * from  toptiendas'''\n",
    "df3 = pd.read_sql_query(sql, conn)\n",
    "print(df3)"
   ]
  },
  {
   "cell_type": "markdown",
   "metadata": {},
   "source": [
    "4) Top 3 dias de mayor ventas"
   ]
  },
  {
   "cell_type": "code",
   "execution_count": 5,
   "metadata": {},
   "outputs": [
    {
     "name": "stdout",
     "output_type": "stream",
     "text": [
      "   ventas      fecha      nombre\n",
      "0  521.99   1-7-2019        nike\n",
      "1  510.74   7-7-2019  timberland\n",
      "2  495.96  12-6-2019        zara\n"
     ]
    }
   ],
   "source": [
    "sql='''select * from  mayordiaventas'''\n",
    "df4 = pd.read_sql_query(sql, conn)\n",
    "print(df4)"
   ]
  },
  {
   "cell_type": "markdown",
   "metadata": {},
   "source": [
    "5) Top 10 de edades mas comunes en el centro comercial"
   ]
  },
  {
   "cell_type": "code",
   "execution_count": 6,
   "metadata": {},
   "outputs": [
    {
     "name": "stdout",
     "output_type": "stream",
     "text": [
      "   cantidad  edad\n",
      "0       284    34\n",
      "1       274    37\n",
      "2       268    33\n",
      "3       263    39\n",
      "4       261    38\n",
      "5       260    41\n",
      "6       257    40\n",
      "7       255    36\n",
      "8       253    35\n",
      "9       249    30\n"
     ]
    }
   ],
   "source": [
    "sql='''select * from  topedades'''\n",
    "df5 = pd.read_sql_query(sql, conn)\n",
    "print(df5)"
   ]
  },
  {
   "cell_type": "markdown",
   "metadata": {},
   "source": [
    "6) Porcentaje de entrada por sexo"
   ]
  },
  {
   "cell_type": "code",
   "execution_count": 7,
   "metadata": {},
   "outputs": [
    {
     "name": "stdout",
     "output_type": "stream",
     "text": [
      "   cantidad  edad\n",
      "0       284    34\n",
      "1       274    37\n",
      "2       268    33\n",
      "3       263    39\n",
      "4       261    38\n",
      "5       260    41\n",
      "6       257    40\n",
      "7       255    36\n",
      "8       253    35\n",
      "9       249    30\n"
     ]
    }
   ],
   "source": [
    "sql='''select * from  topedades'''\n",
    "df6 = pd.read_sql_query(sql, conn)\n",
    "print(df6)"
   ]
  },
  {
   "cell_type": "code",
   "execution_count": null,
   "metadata": {},
   "outputs": [],
   "source": []
  }
 ],
 "metadata": {
  "kernelspec": {
   "display_name": "Python 3",
   "language": "python",
   "name": "python3"
  },
  "language_info": {
   "codemirror_mode": {
    "name": "ipython",
    "version": 3
   },
   "file_extension": ".py",
   "mimetype": "text/x-python",
   "name": "python",
   "nbconvert_exporter": "python",
   "pygments_lexer": "ipython3",
   "version": "3.7.3"
  }
 },
 "nbformat": 4,
 "nbformat_minor": 2
}
